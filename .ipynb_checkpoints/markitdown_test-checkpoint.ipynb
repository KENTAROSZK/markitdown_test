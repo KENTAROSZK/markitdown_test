{
 "cells": [
  {
   "cell_type": "code",
   "execution_count": 1,
   "id": "e39f0fab-aba4-4cf5-aa65-80590597d2e0",
   "metadata": {},
   "outputs": [
    {
     "data": {
      "text/plain": [
       "True"
      ]
     },
     "execution_count": 1,
     "metadata": {},
     "output_type": "execute_result"
    }
   ],
   "source": [
    "import os\n",
    "from dotenv import load_dotenv\n",
    "from openai import OpenAI\n",
    "from markitdown import MarkItDown\n",
    "\n",
    "\n",
    "# set environmental variables\n",
    "load_dotenv()"
   ]
  },
  {
   "cell_type": "code",
   "execution_count": 2,
   "id": "f1a97052-c36d-4bd5-b72a-1fca6dad6d52",
   "metadata": {},
   "outputs": [],
   "source": [
    "DATA_DIR = \"data/\""
   ]
  },
  {
   "cell_type": "markdown",
   "id": "47d5f561-30f0-490e-aab7-ce0b0f6eca31",
   "metadata": {},
   "source": [
    "# 画像（jpg）以外の形式"
   ]
  },
  {
   "cell_type": "markdown",
   "id": "0f55200d",
   "metadata": {},
   "source": [
    "## Excel\n",
    "\n",
    "まずはExcelファイル。\n",
    "\n",
    "シートが2つ存在している状態で、ちょっとした数値データが入っている状態。\n",
    "\n",
    "- シート1：Sheet1\n",
    "- シート2：09060124-b5e7-4717-9d07-3c046eb"
   ]
  },
  {
   "cell_type": "code",
   "execution_count": 3,
   "id": "dae07277-4abf-4537-b201-17723687dd9f",
   "metadata": {},
   "outputs": [
    {
     "name": "stdout",
     "output_type": "stream",
     "text": [
      "## Sheet1\n",
      "| Alpha | Beta | Gamma | Delta |\n",
      "| --- | --- | --- | --- |\n",
      "| 89 | 82 | 100 | 12 |\n",
      "| 76 | 89 | 33 | 42 |\n",
      "| 60 | 84 | 19 | 19 |\n",
      "| 7 | 69 | 10 | 17 |\n",
      "| 87 | 89 | 86 | 54 |\n",
      "| 23 | 4 | 89 | 25 |\n",
      "| 70 | 84 | 62 | 59 |\n",
      "| 83 | 37 | 43 | 21 |\n",
      "| 71 | 15 | 88 | 32 |\n",
      "| 20 | 62 | 20 | 67 |\n",
      "| 67 | 18 | 15 | 48 |\n",
      "| 42 | 5 | 15 | 67 |\n",
      "| 58 | 6ff4173b-42a5-4784-9b19-f49caff4d93d | 22 | 9 |\n",
      "| 49 | 93 | 6 | 38 |\n",
      "| 82 | 28 | 1 | 39 |\n",
      "| 95 | 55 | 18 | 82 |\n",
      "| 50 | 46 | 98 | 86 |\n",
      "| 31 | 46 | 47 | 82 |\n",
      "| 40 | 65 | 19 | 31 |\n",
      "| 95 | 65 | 29 | 62 |\n",
      "| 68 | 57 | 34 | 54 |\n",
      "| 96 | 66 | 63 | 14 |\n",
      "| 87 | 93 | 95 | 80 |\n",
      "\n",
      "## 09060124-b5e7-4717-9d07-3c046eb\n",
      "| ColA | ColB | ColC | ColD |\n",
      "| --- | --- | --- | --- |\n",
      "| 1 | 2 | 3 | 4 |\n",
      "| 5 | 6 | 7 | 8 |\n",
      "| 9 | 10 | 11 | 12 |\n",
      "| 13 | 14 | 15 | affc7dad-52dc-4b98-9b5d-51e65d8a8ad0 |\n"
     ]
    }
   ],
   "source": [
    "markitdown = MarkItDown()\n",
    "result = markitdown.convert(DATA_DIR + \"test.xlsx\")\n",
    "print(result.text_content)"
   ]
  },
  {
   "cell_type": "markdown",
   "id": "b7c35692-829f-4170-9e34-024d82b9b03b",
   "metadata": {},
   "source": [
    "シート単位で出力してくれるのは地味に便利"
   ]
  },
  {
   "cell_type": "markdown",
   "id": "cc5fc864",
   "metadata": {},
   "source": [
    "## HTMLファイル\n",
    "\n",
    "HTMLファイルを読み込ませる"
   ]
  },
  {
   "cell_type": "code",
   "execution_count": 4,
   "id": "e71d21fb-ddfb-44a2-a7ba-fc2f110b016f",
   "metadata": {},
   "outputs": [
    {
     "name": "stdout",
     "output_type": "stream",
     "text": [
      "\n",
      "[Skip to main content](#__docusaurus_skipToContent_fallback)What's new in AutoGen? Read [this blog](/autogen/blog/2024/03/03/AutoGen-Update) for an overview of updates[![AutoGen](/autogen/img/ag.svg)![AutoGen](/autogen/img/ag.svg)**AutoGen**](/autogen/)[Docs](/autogen/docs/Getting-Started)[API](/autogen/docs/reference/agentchat/conversable_agent)[Blog](/autogen/blog)[FAQ](/autogen/docs/FAQ)[Examples](/autogen/docs/Examples)[Notebooks](/autogen/docs/notebooks)[Gallery](/autogen/docs/Gallery)Other Languages\n",
      "\n",
      "* [Dotnet](https://microsoft.github.io/autogen-for-net/)\n",
      "[GitHub](https://github.com/microsoft/autogen)`ctrl``K`Recent posts\n",
      "\n",
      "* [What's New in AutoGen?](/autogen/blog/2024/03/03/AutoGen-Update)\n",
      "* [StateFlow - Build LLM Workflows with Customized State-Oriented Transition Function in GroupChat](/autogen/blog/2024/02/29/StateFlow)\n",
      "* [FSM Group Chat -- User-specified agent transitions](/autogen/blog/2024/02/11/FSM-GroupChat)\n",
      "* [Anny: Assisting AutoGen Devs Via AutoGen](/autogen/blog/2024/02/02/AutoAnny)\n",
      "* [AutoGen with Custom Models: Empowering Users to Use Their Own Inference Mechanism](/autogen/blog/2024/01/26/Custom-Models)\n",
      "* [AutoGenBench -- A Tool for Measuring and Evaluating AutoGen Agents](/autogen/blog/2024/01/25/AutoGenBench)\n",
      "* [Code execution is now by default inside docker container](/autogen/blog/2024/01/23/Code-execution-in-docker)\n",
      "* [All About Agent Descriptions](/autogen/blog/2023/12/29/AgentDescriptions)\n",
      "* [AgentOptimizer - An Agentic Way to Train Your LLM Agent](/autogen/blog/2023/12/23/AgentOptimizer)\n",
      "* [AutoGen Studio: Interactively Explore Multi-Agent Workflows](/autogen/blog/2023/12/01/AutoGenStudio)\n",
      "* [Agent AutoBuild - Automatically Building Multi-agent Systems](/autogen/blog/2023/11/26/Agent-AutoBuild)\n",
      "* [How to Assess Utility of LLM-powered Applications?](/autogen/blog/2023/11/20/AgentEval)\n",
      "* [AutoGen Meets GPTs](/autogen/blog/2023/11/13/OAI-assistants)\n",
      "* [EcoAssistant - Using LLM Assistants More Accurately and Affordably](/autogen/blog/2023/11/09/EcoAssistant)\n",
      "* [Multimodal with GPT-4V and LLaVA](/autogen/blog/2023/11/06/LMM-Agent)\n",
      "* [AutoGen's Teachable Agents](/autogen/blog/2023/10/26/TeachableAgent)\n",
      "* [Retrieval-Augmented Generation (RAG) Applications with AutoGen](/autogen/blog/2023/10/18/RetrieveChat)\n",
      "* [Use AutoGen for Local LLMs](/autogen/blog/2023/07/14/Local-LLMs)\n",
      "* [MathChat - An Conversational Framework to Solve Math Problems](/autogen/blog/2023/06/28/MathChat)\n",
      "* [Achieve More, Pay Less - Use GPT-4 Smartly](/autogen/blog/2023/05/18/GPT-adaptive-humaneval)\n",
      "* [Does Model and Inference Parameter Matter in LLM Applications? - A Case Study for MATH](/autogen/blog/2023/04/21/LLM-tuning-math)\n",
      "# Does Model and Inference Parameter Matter in LLM Applications? - A Case Study for MATH\n",
      "\n",
      "April 21, 2023 · 6 min read[![Chi Wang](https://github.com/sonichi.png)](https://www.linkedin.com/in/chi-wang-49b15b16/)[Chi Wang](https://www.linkedin.com/in/chi-wang-49b15b16/)Principal Researcher at Microsoft Research\n",
      "\n",
      "![level 2 algebra](/autogen/assets/images/level2algebra-659ba95286432d9945fc89e84d606797.png)\n",
      "\n",
      "**TL;DR:**\n",
      "\n",
      "* **Just by tuning the inference parameters like model, number of responses, temperature etc. without changing any model weights or prompt, the baseline accuracy of untuned gpt-4 can be improved by 20% in high school math competition problems.**\n",
      "* **For easy problems, the tuned gpt-3.5-turbo model vastly outperformed untuned gpt-4 in accuracy (e.g., 90% vs. 70%) and cost efficiency. For hard problems, the tuned gpt-4 is much more accurate (e.g., 35% vs. 20%) and less expensive than untuned gpt-4.**\n",
      "* **AutoGen can help with model selection, parameter tuning, and cost-saving in LLM applications.**\n",
      "\n",
      "Large language models (LLMs) are powerful tools that can generate natural language texts for various applications, such as chatbots, summarization, translation, and more. GPT-4 is currently the state of the art LLM in the world. Is model selection irrelevant? What about inference parameters?\n",
      "\n",
      "In this blog post, we will explore how model and inference parameter matter in LLM applications, using a case study for [MATH](https://datasets-benchmarks-proceedings.neurips.cc/paper/2021/hash/be83ab3ecd0db773eb2dc1b0a17836a1-Abstract-round2.html), a benchmark for evaluating LLMs on advanced mathematical problem solving. MATH consists of 12K math competition problems from AMC-10, AMC-12 and AIME. Each problem is accompanied by a step-by-step solution.\n",
      "\n",
      "We will use AutoGen to automatically find the best model and inference parameter for LLMs on a given task and dataset given an inference budget, using a novel low-cost search & pruning strategy. AutoGen currently supports all the LLMs from OpenAI, such as GPT-3.5 and GPT-4.\n",
      "\n",
      "We will use AutoGen to perform model selection and inference parameter tuning. Then we compare the performance and inference cost on solving algebra problems with the untuned gpt-4. We will also analyze how different difficulty levels affect the results.\n",
      "\n",
      "## Experiment Setup[​](#experiment-setup \"Direct link to Experiment Setup\")\n",
      "\n",
      "We use AutoGen to select between the following models with a target inference budget $0.02 per instance:\n",
      "\n",
      "* gpt-3.5-turbo, a relatively cheap model that powers the popular ChatGPT app\n",
      "* gpt-4, the state of the art LLM that costs more than 10 times of gpt-3.5-turbo\n",
      "\n",
      "We adapt the models using 20 examples in the train set, using the problem statement as the input and generating the solution as the output. We use the following inference parameters:\n",
      "\n",
      "* temperature: The parameter that controls the randomness of the output text. A higher temperature means more diversity but less coherence. We search for the optimal temperature in the range of [0, 1].\n",
      "* top\\_p: The parameter that controls the probability mass of the output tokens. Only tokens with a cumulative probability less than or equal to top-p are considered. A lower top-p means more diversity but less coherence. We search for the optimal top-p in the range of [0, 1].\n",
      "* max\\_tokens: The maximum number of tokens that can be generated for each output. We search for the optimal max length in the range of [50, 1000].\n",
      "* n: The number of responses to generate. We search for the optimal n in the range of [1, 100].\n",
      "* prompt: We use the template: \"{problem} Solve the problem carefully. Simplify your answer as much as possible. Put the final answer in \\boxed{{}}.\" where {problem} will be replaced by the math problem instance.\n",
      "\n",
      "In this experiment, when n > 1, we find the answer with highest votes among all the responses and then select it as the final answer to compare with the ground truth. For example, if n = 5 and 3 of the responses contain a final answer 301 while 2 of the responses contain a final answer 159, we choose 301 as the final answer. This can help with resolving potential errors due to randomness. We use the average accuracy and average inference cost as the metric to evaluate the performance over a dataset. The inference cost of a particular instance is measured by the price per 1K tokens and the number of tokens consumed.\n",
      "\n",
      "## Experiment Results[​](#experiment-results \"Direct link to Experiment Results\")\n",
      "\n",
      "The first figure in this blog post shows the average accuracy and average inference cost of each configuration on the level 2 Algebra test set.\n",
      "\n",
      "Surprisingly, the tuned gpt-3.5-turbo model is selected as a better model and it vastly outperforms untuned gpt-4 in accuracy (92% vs. 70%) with equal or 2.5 times higher inference budget.\n",
      "The same observation can be obtained on the level 3 Algebra test set.\n",
      "\n",
      "![level 3 algebra](/autogen/assets/images/level3algebra-94e87a683ac8832ac7ae6f41f30131a4.png)\n",
      "\n",
      "However, the selected model changes on level 4 Algebra.\n",
      "\n",
      "![level 4 algebra](/autogen/assets/images/level4algebra-492beb22490df30d6cc258f061912dcd.png)\n",
      "\n",
      "This time gpt-4 is selected as the best model. The tuned gpt-4 achieves much higher accuracy (56% vs. 44%) and lower cost than the untuned gpt-4.\n",
      "On level 5 the result is similar.\n",
      "\n",
      "![level 5 algebra](/autogen/assets/images/level5algebra-8fba701551334296d08580b4b489fe56.png)\n",
      "\n",
      "We can see that AutoGen has found different optimal model and inference parameters for each subset of a particular level, which shows that these parameters matter in cost-sensitive LLM applications and need to be carefully tuned or adapted.\n",
      "\n",
      "An example notebook to run these experiments can be found at: <https://github.com/microsoft/FLAML/blob/v1.2.1/notebook/autogen_chatgpt.ipynb>. The experiments were run when AutoGen was a subpackage in FLAML.\n",
      "\n",
      "## Analysis and Discussion[​](#analysis-and-discussion \"Direct link to Analysis and Discussion\")\n",
      "\n",
      "While gpt-3.5-turbo demonstrates competitive accuracy with voted answers in relatively easy algebra problems under the same inference budget, gpt-4 is a better choice for the most difficult problems. In general, through parameter tuning and model selection, we can identify the opportunity to save the expensive model for more challenging tasks, and improve the overall effectiveness of a budget-constrained system.\n",
      "\n",
      "There are many other alternative ways of solving math problems, which we have not covered in this blog post. When there are choices beyond the inference parameters, they can be generally tuned via [`flaml.tune`](https://microsoft.github.io/FLAML/docs/Use-Cases/Tune-User-Defined-Function).\n",
      "\n",
      "The need for model selection, parameter tuning and cost saving is not specific to the math problems. The [Auto-GPT](https://github.com/Significant-Gravitas/Auto-GPT) project is an example where high cost can easily prevent a generic complex task to be accomplished as it needs many LLM inference calls.\n",
      "\n",
      "## For Further Reading[​](#for-further-reading \"Direct link to For Further Reading\")\n",
      "\n",
      "* [Research paper about the tuning technique](https://arxiv.org/abs/2303.04673)\n",
      "* [Documentation about inference tuning](/autogen/docs/Use-Cases/enhanced_inference)\n",
      "\n",
      "*Do you have any experience to share about LLM applications? Do you like to see more support or research of LLM optimization or automation? Please join our [Discord](https://discord.gg/pAbnFJrkgZ) server for discussion.*\n",
      "\n",
      "**Tags:**\n",
      "\n",
      "* [LLM](/autogen/blog/tags/llm)\n",
      "* [GPT](/autogen/blog/tags/gpt)\n",
      "* [research](/autogen/blog/tags/research)\n",
      "[Newer PostAchieve More, Pay Less - Use GPT-4 Smartly](/autogen/blog/2023/05/18/GPT-adaptive-humaneval)\n",
      "\n",
      "* [Experiment Setup](#experiment-setup)\n",
      "* [Experiment Results](#experiment-results)\n",
      "* [Analysis and Discussion](#analysis-and-discussion)\n",
      "* [For Further Reading](#for-further-reading)\n",
      "Community\n",
      "\n",
      "* [Discord](https://discord.gg/pAbnFJrkgZ)\n",
      "* [Twitter](https://twitter.com/pyautogen)\n",
      "Copyright © 2024 AutoGen Authors | [Privacy and Cookies](https://go.microsoft.com/fwlink/?LinkId=521839)\n",
      "\n"
     ]
    }
   ],
   "source": [
    "markitdown = MarkItDown()\n",
    "result = markitdown.convert(DATA_DIR + \"test_blog.html\")\n",
    "print(result.text_content)"
   ]
  },
  {
   "cell_type": "markdown",
   "id": "1832d2c9",
   "metadata": {},
   "source": [
    "## Wordファイルを読み込ませてみる"
   ]
  },
  {
   "cell_type": "code",
   "execution_count": 5,
   "id": "4df45db3-a68c-41ab-a64b-5185854e934b",
   "metadata": {},
   "outputs": [
    {
     "name": "stdout",
     "output_type": "stream",
     "text": [
      "\n",
      "\n",
      "AutoGen: Enabling Next-Gen LLM Applications via Multi-Agent Conversation\n",
      "\n",
      "Qingyun Wu , Gagan Bansal , Jieyu Zhang, Yiran Wu, Beibin Li, Erkang Zhu, Li Jiang, Xiaoyun Zhang, Shaokun Zhang, Jiale Liu, Ahmed Awadallah, Ryen W. White, Doug Burger, Chi Wang\n",
      "\n",
      "# Abstract\n",
      "\n",
      "AutoGen is an open-source framework that allows developers to build LLM applications via multiple agents that can converse with each other to accomplish tasks. AutoGen agents are customizable, conversable, and can operate in various modes that employ combinations of LLMs, human inputs, and tools. Using AutoGen, developers can also flexibly define agent interaction behaviors. Both natural language and computer code can be used to program flexible conversation patterns for different applications. AutoGen serves as a generic framework for building diverse applications of various complexities and LLM capacities. Empirical studies demonstrate the effectiveness of the framework in many example applications, with domains ranging from mathematics, coding, question answering, operations research, online decision-making, entertainment, etc.\n",
      "\n",
      "# Introduction\n",
      "\n",
      "Large language models (LLMs) are becoming a crucial building block in developing powerful agents that utilize LLMs for reasoning, tool usage, and adapting to new observations (Yao et al., 2022; Xi et al., 2023; Wang et al., 2023b) in many real-world tasks. Given the expanding tasks that could benefit from LLMs and the growing task complexity, an intuitive approach to scale up the power of agents is to use multiple agents that cooperate. Prior work suggests that multiple agents can help encourage divergent thinking (Liang et al., 2023), improve factuality and reasoning (Du et al., 2023), and provide validation (Wu et al., 2023).\n",
      "\n",
      "## d666f1f7-46cb-42bd-9a39-9a39cf2a509f\n",
      "\n",
      "In light of the intuition and early evidence of promise, it is intriguing to ask the following question: how can we facilitate the development of LLM applications that could span a broad spectrum of domains and complexities based on the multi-agent approach? Our insight is to use multi-agent conversations to achieve it. There are at least three reasons confirming its general feasibility and utility thanks to recent advances in LLMs: First, because chat optimized LLMs (e.g., GPT-4) show the ability to incorporate feedback, LLM agents can cooperate through conversations with each other or human(s), e.g., a dialog where agents provide and seek reasoning, observations, critiques, and validation. Second, because a single LLM can exhibit a broad range of capabilities (especially when configured with the correct prompt and inference settings), conversations between differently configured agents can help combine these broad LLM capabilities in a modular and complementary manner. Third, LLMs have demonstrated ability to solve complex tasks when the tasks are broken into simpler subtasks. Here is a random UUID in the middle of the paragraph! 314b0a30-5b04-470b-b9f7-eed2c2bec74a Multi-agent conversations can enable this partitioning and integration in an intuitive manner. How can we leverage the above insights and support different applications with the common requirement of coordinating multiple agents, potentially backed by LLMs, humans, or tools exhibiting different capacities? We desire a multi-agent conversation framework with generic abstraction and effective implementation that has the flexibility to satisfy different application needs. Achieving this requires addressing two critical questions: (1) How can we design individual agents that are capable, reusable, customizable, and effective in multi-agent collaboration? (2) How can we develop a straightforward, unified interface that can accommodate a wide range of agent conversation patterns? In practice, applications of varying complexities may need distinct sets of agents with specific capabilities, and may require different conversation patterns, such as single- or multi-turn dialogs, different human involvement modes, and static vs. dynamic conversation. Moreover, developers may prefer the flexibility to program agent interactions in natural language or code. Failing to adequately address these two questions would limit the framework’s scope of applicability and generality.\n",
      "\n",
      "Here is a random table for .docx parsing test purposes:\n",
      "\n",
      "| 1 | 2 | 3 | 4 | 5 | 6 |\n",
      "| --- | --- | --- | --- | --- | --- |\n",
      "| 7 | 8 | 9 | 10 | 11 | 12 |\n",
      "| 13 | 14 | 49e168b7-d2ae-407f-a055-2167576f39a1 | 15 | 16 | 17 |\n",
      "| 18 | 19 | 20 | 21 | 22 | 23 |\n",
      "| 24 | 25 | 26 | 27 | 28 | 29 |\n",
      "\n",
      "\n"
     ]
    }
   ],
   "source": [
    "markitdown = MarkItDown()\n",
    "result = markitdown.convert(DATA_DIR + \"test.docx\")\n",
    "print(result.text_content)"
   ]
  },
  {
   "cell_type": "markdown",
   "id": "bd0be38d-ea66-4fac-9c97-10adaa28b82c",
   "metadata": {},
   "source": [
    "# 画像の場合\n",
    "\n",
    "画像データの場合、画像を解釈させるために、ChatGPTを使っている。そのため、OpenAI社のAPIキーが必要。"
   ]
  },
  {
   "cell_type": "code",
   "execution_count": 6,
   "id": "9dba3659-1e4f-4e2f-88f5-7c3ad9219c6b",
   "metadata": {},
   "outputs": [
    {
     "name": "stderr",
     "output_type": "stream",
     "text": [
      "/usr/local/lib/python3.13/site-packages/markitdown/_markitdown.py:1028: DeprecationWarning: 'mlm_client' is deprecated, and was renamed 'llm_client'.\n",
      "  warn(\n",
      "/usr/local/lib/python3.13/site-packages/markitdown/_markitdown.py:1041: DeprecationWarning: 'mlm_model' is deprecated, and was renamed 'llm_model'.\n",
      "  warn(\n"
     ]
    },
    {
     "name": "stdout",
     "output_type": "stream",
     "text": [
      "\n",
      "# Description:\n",
      "This image is a screenshot of the first page of a research paper titled \"AutoGen: Enabling Next-Gen LLM Applications via Multi-Agent Conversation.\" Authored by a collaborative team from Microsoft Research, Pennsylvania State University, University of Washington, and Xidian University, the paper discusses AutoGen, an open-source framework designed to develop large language model (LLM) applications using multi-agent systems. The authors listed include Qingyun Wu, Gagan Bansal, Jieyu Zhang, and others.\n",
      "\n",
      "The title is prominently displayed at the top, followed by the authors and their affiliations. Below is the abstract, describing AutoGen's capabilities to facilitate customizable and conversable agents for diverse applications, such as mathematics, coding, and entertainment.\n",
      "\n",
      "An illustrative figure is included at the bottom, depicting how AutoGen enables LLM-based applications through multi-agent conversations. The image is divided into sections: agent customization, flexible conversation patterns, and an example agent chat, demonstrating the framework's potential in integrating LLMs, tools, and human inputs.\n",
      "\n",
      "The paper's arXiv identifier is visible on the left edge, indicating its preprint publication on arXiv. Contact information for the corresponding author is provided at the bottom.\n",
      "\n"
     ]
    }
   ],
   "source": [
    "client = OpenAI(\n",
    "    api_key=os.environ.get(\"OPENAI_API_KEY\"),\n",
    ")\n",
    "\n",
    "md = MarkItDown(mlm_client=client,\n",
    "                mlm_model=\"gpt-4o\"\n",
    ")\n",
    "result = md.convert(DATA_DIR + \"test.jpg\")\n",
    "print(result.text_content)"
   ]
  },
  {
   "cell_type": "code",
   "execution_count": 7,
   "id": "39db3059-ef8a-44f1-9a3c-ae0cb6db596a",
   "metadata": {},
   "outputs": [
    {
     "name": "stdout",
     "output_type": "stream",
     "text": [
      "\n",
      "# Description:\n",
      "The image features a bold design with a large red circle on the left and a prominent blue square on the right, partially overlapping the circle. Above these shapes, text clarifies the task of mentioning the string \"5bda1dd6\" in descriptions. The clean and vibrant contrast between the red and blue shapes against the white background makes for a visually striking composition.\n",
      "\n"
     ]
    }
   ],
   "source": [
    "md = MarkItDown(mlm_client=client,\n",
    "                mlm_model=\"gpt-4o\"\n",
    ")\n",
    "\n",
    "result = md.convert(DATA_DIR + \"test_llm.jpg\")\n",
    "print(result.text_content)"
   ]
  },
  {
   "cell_type": "markdown",
   "id": "d11fd08b-ab02-4f45-a880-161bcc2d65b1",
   "metadata": {},
   "source": [
    "画像をマークダウンとして説明させることに成功した。\n",
    "\n",
    "推測だが、裏でプロンプトが設定されており、それに沿って出力してくれているのだと思われる。\n",
    "\n",
    "何回か出力させてみたが、必ず「# Description」から出力が始まる。そういう出力をさせるためのプロンプトが組まれているのだろう。"
   ]
  },
  {
   "attachments": {
    "789eb558-00ef-455f-9ff8-3fbb5e936f78.png": {
     "image/png": "[encoded data removed]"
    }
   },
   "cell_type": "markdown",
   "id": "b85393a5-5504-4fda-b10e-01d79018ac05",
   "metadata": {},
   "source": [
    "## 抽象度高めの画像を解説させてみる\n",
    "\n",
    "筆者がパワポで作成した抽象度高めの画像（一応データ分析におけるデータパイプライン的な図にしてみたつもりである）を使って、画像の意味をテキスト化してくれるのかどうかをテストしてみた。\n",
    "\n",
    "※実際にデータサイエンス、データエンジニア、デジタルマーケティング、DX領域でこのような図は頻出すると思われるので、そういう図が正しく解釈されるかどうかをテストしたい、という意図がある。\n",
    "\n",
    "![図1.png](attachment:789eb558-00ef-455f-9ff8-3fbb5e936f78.png)"
   ]
  },
  {
   "cell_type": "code",
   "execution_count": null,
   "id": "3dacd33d-72fb-4525-9a1e-9de609da70b5",
   "metadata": {},
   "outputs": [],
   "source": [
    "md = MarkItDown(mlm_client=client,\n",
    "                mlm_model=\"gpt-4o\"\n",
    ")\n",
    "\n",
    "result = md.convert(DATA_DIR + \"図1.png\")\n",
    "print(result.text_content)"
   ]
  },
  {
   "cell_type": "code",
   "execution_count": null,
   "id": "e2ece9e5-aa0a-44e7-8525-2100b6b00e31",
   "metadata": {},
   "outputs": [],
   "source": [
    "意外とちゃんと説明できている（すごい）。"
   ]
  },
  {
   "cell_type": "markdown",
   "id": "ce15a077-fdc2-440a-84dc-ca8128119df8",
   "metadata": {},
   "source": [
    "## LLMエンジンを指定せずに実行させた場合\n",
    "\n",
    "ここまでは、画像データを扱う際に、ChatGPTを動かしていた。\n",
    "\n",
    "しかしここでは（意地悪なことは承知であるが、）あえてChatGPTを設定せずにライブラリを実行してみた場合の動作をテストしてみた。"
   ]
  },
  {
   "cell_type": "code",
   "execution_count": null,
   "id": "6b19ef58-6c2c-4d37-921c-471891251c13",
   "metadata": {},
   "outputs": [],
   "source": [
    "md = MarkItDown()\n",
    "result = md.convert(DATA_DIR + \"test.jpg\")\n",
    "print(result.text_content)"
   ]
  },
  {
   "cell_type": "markdown",
   "id": "61e724c8-429d-406c-b1e7-6009c2afacda",
   "metadata": {},
   "source": [
    "何も出力されない。\n",
    "\n",
    "「画像だから読み込めなかった」等のエラーや警告を表示して欲しい。"
   ]
  },
  {
   "cell_type": "markdown",
   "id": "a5ce6e2a-0420-40f2-ae29-788bf6741bf7",
   "metadata": {},
   "source": [
    "# パワポの場合\n",
    "\n",
    "画像ではなく、パワポの場合に解釈できるのかどうかをテストしてみた。\n",
    "\n",
    "インプットしているパワポが結構文字多いので、うまく文字だけ抽出してくれるだろうという期待を持つ。"
   ]
  },
  {
   "cell_type": "code",
   "execution_count": null,
   "id": "041fbfc3-53ef-4b9f-8078-bfd302b45bac",
   "metadata": {},
   "outputs": [],
   "source": [
    "markitdown = MarkItDown()\n",
    "result = markitdown.convert(DATA_DIR + \"test.pptx\")\n",
    "print(result.text_content)"
   ]
  },
  {
   "cell_type": "markdown",
   "id": "da5ceac1-46bb-4623-92ab-48056e972708",
   "metadata": {},
   "source": [
    "## 『抽象度高めの画像を解説させてみる』の元パワポファイルを読み込ませてみる。\n",
    "\n",
    "文字文字しいパワポではなく、データパイプラインのような図が使われている場合にも正しく解釈できる出力が出せるのかをテストしてみた。"
   ]
  },
  {
   "cell_type": "code",
   "execution_count": null,
   "id": "99f0c722-b57a-48d4-b236-bdb4e022108b",
   "metadata": {},
   "outputs": [],
   "source": [
    "markitdown = MarkItDown()\n",
    "result = markitdown.convert(DATA_DIR + \"ローカルデータパイプライン説明図作成.pptx\")\n",
    "print(result.text_content)"
   ]
  },
  {
   "cell_type": "markdown",
   "id": "51fc7bab-9769-48ff-b01d-b2f50dab3a50",
   "metadata": {},
   "source": [
    "パワポで表示されている単語を並べているだけになってしまっている。\n",
    "\n",
    "もしかしたらパワポに関しては、画像化させてしまった方が、適切に情報を処理させることができるかもしれない。"
   ]
  },
  {
   "cell_type": "markdown",
   "id": "6bba0ae0-08a6-4e0c-bb39-1698cf6f25e7",
   "metadata": {},
   "source": [
    "## GPTを使って解説させてみる"
   ]
  },
  {
   "cell_type": "code",
   "execution_count": null,
   "id": "891e12e4-618c-4cff-bfbc-4211bd5a492f",
   "metadata": {},
   "outputs": [],
   "source": [
    "md = MarkItDown(mlm_client=client,\n",
    "                mlm_model=\"gpt-4o\"\n",
    ")\n",
    "\n",
    "result = md.convert(DATA_DIR + \"ローカルデータパイプライン説明図作成.pptx\")\n",
    "print(result.text_content)"
   ]
  }
 ],
 "metadata": {
  "kernelspec": {
   "display_name": "Python 3 (ipykernel)",
   "language": "python",
   "name": "python3"
  },
  "language_info": {
   "codemirror_mode": {
    "name": "ipython",
    "version": 3
   },
   "file_extension": ".py",
   "mimetype": "text/x-python",
   "name": "python",
   "nbconvert_exporter": "python",
   "pygments_lexer": "ipython3",
   "version": "3.13.1"
  }
 },
 "nbformat": 4,
 "nbformat_minor": 5
}
